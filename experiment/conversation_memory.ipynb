{
 "cells": [
  {
   "cell_type": "code",
   "execution_count": null,
   "metadata": {},
   "outputs": [],
   "source": [
    "from langchain_openai import ChatOpenAI\n",
    "from langchain.chains import ConversationChain\n",
    "from langchain.memory import (\n",
    "    ConversationBufferMemory,\n",
    "    ConversationBufferWindowMemory,\n",
    "    ConversationSummaryMemory,\n",
    "    ConversationSummaryBufferMemory,\n",
    "    ConversationTokenBufferMemory,\n",
    "    ConversationKGMemory,\n",
    ")\n",
    "import warnings \n",
    "warnings.filterwarnings('ignore')"
   ]
  },
  {
   "cell_type": "code",
   "execution_count": 2,
   "metadata": {},
   "outputs": [],
   "source": [
    "# Load OpenAI token\n",
    "file = open('token-openai.txt', 'r')\n",
    "API_KEY = file.read()"
   ]
  },
  {
   "cell_type": "code",
   "execution_count": 5,
   "metadata": {},
   "outputs": [],
   "source": [
    "# Load model\n",
    "llm = ChatOpenAI(model=\"gpt-4o-mini\", api_key=API_KEY, temperature=0, max_tokens=50)"
   ]
  },
  {
   "cell_type": "markdown",
   "metadata": {},
   "source": [
    "# ConversationBufferMemory"
   ]
  },
  {
   "cell_type": "code",
   "execution_count": 6,
   "metadata": {},
   "outputs": [],
   "source": [
    "# Assign memory to the llm\n",
    "buffer = ConversationChain(llm=llm, memory=ConversationBufferMemory())"
   ]
  },
  {
   "cell_type": "code",
   "execution_count": null,
   "metadata": {},
   "outputs": [
    {
     "name": "stdout",
     "output_type": "stream",
     "text": [
      "Water pollution is caused by contaminants like chemicals, waste, plastics, and pathogens entering water bodies, harming ecosystems and health.\n"
     ]
    },
    {
     "data": {
      "text/plain": [
       "{'input': 'Your response should not be more than 20 words.\\n    Hi, I am a water scientist. I want to know what makes water pollution?.\\n    ',\n",
       " 'history': '',\n",
       " 'response': 'Water pollution is caused by contaminants like chemicals, waste, plastics, and pathogens entering water bodies, harming ecosystems and health.'}"
      ]
     },
     "metadata": {},
     "output_type": "display_data"
    }
   ],
   "source": [
    "ans_1 = buffer(\n",
    "    \"\"\"Your response should not be more than 20 words.\n",
    "    Hi, I am a water scientist. I want to know what makes water pollution?.\n",
    "    \"\"\"\n",
    ")\n",
    "print(ans_1['response'])\n",
    "ans_1"
   ]
  },
  {
   "cell_type": "code",
   "execution_count": null,
   "metadata": {},
   "outputs": [
    {
     "name": "stdout",
     "output_type": "stream",
     "text": [
      "Reducing pollution can be achieved through waste management, recycling, sustainable agriculture, stricter regulations, and public awareness campaigns.\n"
     ]
    },
    {
     "data": {
      "text/plain": [
       "{'input': 'What can reduce the pollution?',\n",
       " 'history': 'Human: Your response should not be more than 20 words.\\n    Hi, I am a water scientist. I want to know what makes water pollution?.\\n    \\nAI: Water pollution is caused by contaminants like chemicals, waste, plastics, and pathogens entering water bodies, harming ecosystems and health.',\n",
       " 'response': 'Reducing pollution can be achieved through waste management, recycling, sustainable agriculture, stricter regulations, and public awareness campaigns.'}"
      ]
     },
     "metadata": {},
     "output_type": "display_data"
    }
   ],
   "source": [
    "ans_2 = buffer(\"What can reduce the pollution?\")\n",
    "print(ans_2['response'])\n",
    "ans_2"
   ]
  },
  {
   "cell_type": "code",
   "execution_count": null,
   "metadata": {},
   "outputs": [
    {
     "name": "stdout",
     "output_type": "stream",
     "text": [
      "No, water pollution is harmful, affecting ecosystems, wildlife, and human health, leading to long-term environmental issues.\n"
     ]
    },
    {
     "data": {
      "text/plain": [
       "{'input': 'Is it a good phenomenon?',\n",
       " 'history': 'Human: Your response should not be more than 20 words.\\n    Hi, I am a water scientist. I want to know what makes water pollution?.\\n    \\nAI: Water pollution is caused by contaminants like chemicals, waste, plastics, and pathogens entering water bodies, harming ecosystems and health.\\nHuman: What can reduce the pollution?\\nAI: Reducing pollution can be achieved through waste management, recycling, sustainable agriculture, stricter regulations, and public awareness campaigns.',\n",
       " 'response': 'No, water pollution is harmful, affecting ecosystems, wildlife, and human health, leading to long-term environmental issues.'}"
      ]
     },
     "metadata": {},
     "output_type": "display_data"
    }
   ],
   "source": [
    "ans_3 = buffer(\"Is it a good phenomenon?\")\n",
    "print(ans_3['response'])\n",
    "ans_3"
   ]
  },
  {
   "cell_type": "code",
   "execution_count": null,
   "metadata": {},
   "outputs": [
    {
     "name": "stdout",
     "output_type": "stream",
     "text": [
      "Yes, you're a water scientist! Your expertise is crucial in addressing water pollution and its impacts.\n"
     ]
    },
    {
     "data": {
      "text/plain": [
       "{'input': 'Remember what my profession is?',\n",
       " 'history': 'Human: Your response should not be more than 20 words.\\n    Hi, I am a water scientist. I want to know what makes water pollution?.\\n    \\nAI: Water pollution is caused by contaminants like chemicals, waste, plastics, and pathogens entering water bodies, harming ecosystems and health.\\nHuman: What can reduce the pollution?\\nAI: Reducing pollution can be achieved through waste management, recycling, sustainable agriculture, stricter regulations, and public awareness campaigns.\\nHuman: Is it a good phenomenon?\\nAI: No, water pollution is harmful, affecting ecosystems, wildlife, and human health, leading to long-term environmental issues.',\n",
       " 'response': \"Yes, you're a water scientist! Your expertise is crucial in addressing water pollution and its impacts.\"}"
      ]
     },
     "metadata": {},
     "output_type": "display_data"
    }
   ],
   "source": [
    "ans_4 = buffer(\"Remember what my profession is?\")\n",
    "print(ans_4['response'])\n",
    "ans_4"
   ]
  },
  {
   "cell_type": "code",
   "execution_count": null,
   "metadata": {},
   "outputs": [
    {
     "name": "stdout",
     "output_type": "stream",
     "text": [
      "Human: Your response should not be more than 20 words.\n",
      "    Hi, I am a water scientist. I want to know what makes water pollution?.\n",
      "    \n",
      "AI: Water pollution is caused by contaminants like chemicals, waste, plastics, and pathogens entering water bodies, harming ecosystems and health.\n",
      "Human: What can reduce the pollution?\n",
      "AI: Reducing pollution can be achieved through waste management, recycling, sustainable agriculture, stricter regulations, and public awareness campaigns.\n",
      "Human: Is it a good phenomenon?\n",
      "AI: No, water pollution is harmful, affecting ecosystems, wildlife, and human health, leading to long-term environmental issues.\n",
      "Human: Remember what my profession is?\n",
      "AI: Yes, you're a water scientist! Your expertise is crucial in addressing water pollution and its impacts.\n"
     ]
    }
   ],
   "source": [
    "print(buffer.memory.buffer)"
   ]
  },
  {
   "cell_type": "markdown",
   "metadata": {},
   "source": [
    "## Other ways to assign memory"
   ]
  },
  {
   "cell_type": "code",
   "execution_count": null,
   "metadata": {},
   "outputs": [
    {
     "data": {
      "text/plain": [
       "{'history': 'Human: Your response should not be more than 20 words. Hi, I am a water scientist. I want to know what makes water pollution?\\nAI: Water pollution is caused by contaminants like chemicals, waste, plastics, and pathogens entering water bodies, harming ecosystems and health.\\nHuman: What can reduce the pollution?\\nAI: Reducing pollution can be achieved through waste management, recycling, sustainable agriculture, stricter regulations, and public awareness campaigns.'}"
      ]
     },
     "metadata": {},
     "output_type": "display_data"
    }
   ],
   "source": [
    "# Assign memory\n",
    "memory = ConversationBufferMemory(llm=llm)\n",
    "\n",
    "# First chat\n",
    "memory.save_context(\n",
    "    {\"input\": \"Your response should not be more than 20 words. Hi, I am a water scientist. I want to know what makes water pollution?\"},\n",
    "    {\"output\": \"Water pollution is caused by contaminants like chemicals, waste, plastics, and pathogens entering water bodies, harming ecosystems and health.\"}\n",
    ")\n",
    "\n",
    "# Second chat\n",
    "memory.save_context(\n",
    "    {\"input\": \"What can reduce the pollution?\"},\n",
    "    {\"output\": \"Reducing pollution can be achieved through waste management, recycling, sustainable agriculture, stricter regulations, and public awareness campaigns.\"}\n",
    ")\n",
    "\n",
    "memory.load_memory_variables({})"
   ]
  },
  {
   "cell_type": "code",
   "execution_count": null,
   "metadata": {},
   "outputs": [
    {
     "data": {
      "text/plain": [
       "[HumanMessage(content='Hi, I am a water scientist. I want to know what makes water pollution? Your response should not be more than 20 words.'),\n",
       " AIMessage(content='Water pollution is caused by contaminants like chemicals, waste, plastics, and pathogens entering water bodies, harming ecosystems and health.'),\n",
       " HumanMessage(content='What can reduce the pollution?'),\n",
       " AIMessage(content='Reducing pollution can be achieved through better waste management, stricter regulations, pollution control technologies, and public awareness campaigns.')]"
      ]
     },
     "metadata": {},
     "output_type": "display_data"
    }
   ],
   "source": [
    "messages = memory.chat_memory.messages\n",
    "messages"
   ]
  },
  {
   "cell_type": "code",
   "execution_count": null,
   "metadata": {},
   "outputs": [
    {
     "data": {
      "text/plain": [
       "{'input': 'Is it a good phenomenon?',\n",
       " 'history': 'Human: Your response should not be more than 20 words. Hi, I am a water scientist. I want to know what makes water pollution?\\nAI: Water pollution is caused by contaminants like chemicals, waste, plastics, and pathogens entering water bodies, harming ecosystems and health.\\nHuman: What can reduce the pollution?\\nAI: Reducing pollution can be achieved through waste management, recycling, sustainable agriculture, stricter regulations, and public awareness campaigns.',\n",
       " 'response': 'No, water pollution is harmful, affecting ecosystems, human health, and biodiversity, leading to long-term environmental damage.'}"
      ]
     },
     "metadata": {},
     "output_type": "display_data"
    }
   ],
   "source": [
    "# New chat\n",
    "new_loaded_conversation = ConversationChain(\n",
    "    llm=llm,\n",
    "    memory=memory,\n",
    ")\n",
    "answer = new_loaded_conversation(\"Is it a good phenomenon?\")\n",
    "answer"
   ]
  },
  {
   "cell_type": "markdown",
   "metadata": {},
   "source": [
    "# ConversationBufferWindowMemory"
   ]
  },
  {
   "cell_type": "code",
   "execution_count": null,
   "metadata": {},
   "outputs": [],
   "source": [
    "buffer_window = ConversationChain(\n",
    "    llm=llm, memory=ConversationBufferWindowMemory(k=2)\n",
    ")"
   ]
  },
  {
   "cell_type": "code",
   "execution_count": null,
   "metadata": {},
   "outputs": [
    {
     "name": "stdout",
     "output_type": "stream",
     "text": [
      "Water pollution is caused by contaminants like chemicals, plastics, sewage, and heavy metals entering water bodies.\n"
     ]
    },
    {
     "data": {
      "text/plain": [
       "{'input': 'Your response should not be more than 20 words.\\n    Hi, I am a water scientist. I want to know what makes water pollution.\\n    ',\n",
       " 'history': '',\n",
       " 'response': 'Water pollution is caused by contaminants like chemicals, plastics, sewage, and heavy metals entering water bodies.'}"
      ]
     },
     "metadata": {},
     "output_type": "display_data"
    }
   ],
   "source": [
    "ans_1 = buffer_window(\n",
    "    \"\"\"Your response should not be more than 20 words.\n",
    "    Hi, I am a water scientist. I want to know what makes water pollution.\n",
    "    \"\"\"\n",
    ")\n",
    "print(ans_1['response'])\n",
    "ans_1"
   ]
  },
  {
   "cell_type": "code",
   "execution_count": null,
   "metadata": {},
   "outputs": [
    {
     "name": "stdout",
     "output_type": "stream",
     "text": [
      "Reducing pollution can be achieved through waste management, recycling, stricter regulations, and promoting sustainable practices.\n"
     ]
    },
    {
     "data": {
      "text/plain": [
       "{'input': 'What can reduce the pollution?',\n",
       " 'history': 'Human: Your response should not be more than 20 words.\\n    Hi, I am a water scientist. I want to know what makes water pollution.\\n    \\nAI: Water pollution is caused by contaminants like chemicals, plastics, sewage, and heavy metals entering water bodies.',\n",
       " 'response': 'Reducing pollution can be achieved through waste management, recycling, stricter regulations, and promoting sustainable practices.'}"
      ]
     },
     "metadata": {},
     "output_type": "display_data"
    }
   ],
   "source": [
    "ans_2 = buffer_window(\"What can reduce the pollution?\")\n",
    "print(ans_2['response'])\n",
    "ans_2"
   ]
  },
  {
   "cell_type": "code",
   "execution_count": null,
   "metadata": {},
   "outputs": [
    {
     "name": "stdout",
     "output_type": "stream",
     "text": [
      "No, water pollution is harmful, affecting ecosystems, human health, and biodiversity. It's crucial to prevent and mitigate it.\n"
     ]
    },
    {
     "data": {
      "text/plain": [
       "{'input': 'Is it a good phenomenon?',\n",
       " 'history': 'Human: Your response should not be more than 20 words.\\n    Hi, I am a water scientist. I want to know what makes water pollution.\\n    \\nAI: Water pollution is caused by contaminants like chemicals, plastics, sewage, and heavy metals entering water bodies.\\nHuman: What can reduce the pollution?\\nAI: Reducing pollution can be achieved through waste management, recycling, stricter regulations, and promoting sustainable practices.',\n",
       " 'response': \"No, water pollution is harmful, affecting ecosystems, human health, and biodiversity. It's crucial to prevent and mitigate it.\"}"
      ]
     },
     "metadata": {},
     "output_type": "display_data"
    }
   ],
   "source": [
    "ans_3 = buffer_window(\"Is it a good phenomenon?\")\n",
    "print(ans_3['response'])\n",
    "ans_3"
   ]
  },
  {
   "cell_type": "code",
   "execution_count": null,
   "metadata": {},
   "outputs": [
    {
     "name": "stdout",
     "output_type": "stream",
     "text": [
      "I'm sorry, but I don't have any information about your profession. If you'd like to share it, I can provide more tailored information or suggestions related to your field!\n"
     ]
    },
    {
     "data": {
      "text/plain": [
       "{'input': 'Remember what my profession is?',\n",
       " 'history': \"Human: What can reduce the pollution?\\nAI: Reducing pollution can be achieved through waste management, recycling, stricter regulations, and promoting sustainable practices.\\nHuman: Is it a good phenomenon?\\nAI: No, water pollution is harmful, affecting ecosystems, human health, and biodiversity. It's crucial to prevent and mitigate it.\",\n",
       " 'response': \"I'm sorry, but I don't have any information about your profession. If you'd like to share it, I can provide more tailored information or suggestions related to your field!\"}"
      ]
     },
     "metadata": {},
     "output_type": "display_data"
    }
   ],
   "source": [
    "ans_4 = buffer_window(\"Remember what my profession is?\")\n",
    "print(ans_4['response'])\n",
    "ans_4"
   ]
  },
  {
   "cell_type": "code",
   "execution_count": null,
   "metadata": {},
   "outputs": [
    {
     "name": "stdout",
     "output_type": "stream",
     "text": [
      "Human: Is it a good phenomenon?\n",
      "AI: No, water pollution is harmful, affecting ecosystems, wildlife, and human health, leading to long-term environmental issues.\n",
      "Human: Remember what my profession is?\n",
      "AI: I'm sorry, but I don't have any information about your profession. If you'd like to share it, I can provide more tailored information or suggestions related to your field!\n"
     ]
    }
   ],
   "source": [
    "print(buffer_window.memory.buffer)"
   ]
  },
  {
   "cell_type": "markdown",
   "metadata": {},
   "source": [
    "# ConversationSummaryMemory"
   ]
  },
  {
   "cell_type": "code",
   "execution_count": null,
   "metadata": {},
   "outputs": [
    {
     "name": "stdout",
     "output_type": "stream",
     "text": [
      "Progressively summarize the lines of conversation provided, adding onto the previous summary returning a new summary.\n",
      "\n",
      "EXAMPLE\n",
      "Current summary:\n",
      "The human asks what the AI thinks of artificial intelligence. The AI thinks artificial intelligence is a force for good.\n",
      "\n",
      "New lines of conversation:\n",
      "Human: Why do you think artificial intelligence is a force for good?\n",
      "AI: Because artificial intelligence will help humans reach their full potential.\n",
      "\n",
      "New summary:\n",
      "The human asks what the AI thinks of artificial intelligence. The AI thinks artificial intelligence is a force for good because it will help humans reach their full potential.\n",
      "END OF EXAMPLE\n",
      "\n",
      "Current summary:\n",
      "{summary}\n",
      "\n",
      "New lines of conversation:\n",
      "{new_lines}\n",
      "\n",
      "New summary:\n"
     ]
    }
   ],
   "source": [
    "summary = ConversationChain(\n",
    "    llm=llm,\n",
    "    memory=ConversationSummaryMemory(llm=llm)\n",
    ")\n",
    "print(summary.memory.prompt.template)"
   ]
  },
  {
   "cell_type": "code",
   "execution_count": null,
   "metadata": {},
   "outputs": [
    {
     "name": "stdout",
     "output_type": "stream",
     "text": [
      "Water pollution is caused by contaminants like chemicals, waste, plastics, and pathogens entering water bodies, harming ecosystems and health.\n"
     ]
    },
    {
     "data": {
      "text/plain": [
       "{'input': 'Your response should not be more than 20 words.\\n    Hi, I am a water scientist. I want to know what makes water pollution?.\\n    ',\n",
       " 'history': '',\n",
       " 'response': 'Water pollution is caused by contaminants like chemicals, waste, plastics, and pathogens entering water bodies, harming ecosystems and health.'}"
      ]
     },
     "metadata": {},
     "output_type": "display_data"
    }
   ],
   "source": [
    "ans_1 = summary(\n",
    "    \"\"\"Your response should not be more than 20 words.\n",
    "    Hi, I am a water scientist. I want to know what makes water pollution?.\n",
    "    \"\"\"\n",
    ")\n",
    "print(ans_1['response'])\n",
    "ans_1"
   ]
  },
  {
   "cell_type": "code",
   "execution_count": null,
   "metadata": {},
   "outputs": [
    {
     "name": "stdout",
     "output_type": "stream",
     "text": [
      "There are several effective strategies to reduce water pollution! Here are some key approaches:\n",
      "\n",
      "1. **Regulation and Legislation**: Governments can implement and enforce stricter regulations on industrial discharges, agricultural runoff, and waste management practices. Laws like the\n"
     ]
    },
    {
     "data": {
      "text/plain": [
       "{'input': 'What can reduce the pollution?',\n",
       " 'history': 'The human, a water scientist, asks about the causes of water pollution. The AI explains it is caused by contaminants like chemicals, waste, plastics, and pathogens entering water bodies, harming ecosystems and health.',\n",
       " 'response': 'There are several effective strategies to reduce water pollution! Here are some key approaches:\\n\\n1. **Regulation and Legislation**: Governments can implement and enforce stricter regulations on industrial discharges, agricultural runoff, and waste management practices. Laws like the'}"
      ]
     },
     "metadata": {},
     "output_type": "display_data"
    }
   ],
   "source": [
    "ans_2 = summary(\"What can reduce the pollution?\")\n",
    "print(ans_2['response'])\n",
    "ans_2"
   ]
  },
  {
   "cell_type": "code",
   "execution_count": null,
   "metadata": {},
   "outputs": [
    {
     "name": "stdout",
     "output_type": "stream",
     "text": [
      "Water pollution is generally considered a negative phenomenon because it can have severe impacts on ecosystems, human health, and the overall quality of water resources. Contaminants can disrupt aquatic life, lead to the loss of biodiversity, and make water unsafe for drinking,\n"
     ]
    },
    {
     "data": {
      "text/plain": [
       "{'input': 'Is it a good phenomenon?',\n",
       " 'history': 'The human, a water scientist, asks about the causes of water pollution. The AI explains it is caused by contaminants like chemicals, waste, plastics, and pathogens entering water bodies, harming ecosystems and health. The human then inquires about ways to reduce',\n",
       " 'response': 'Water pollution is generally considered a negative phenomenon because it can have severe impacts on ecosystems, human health, and the overall quality of water resources. Contaminants can disrupt aquatic life, lead to the loss of biodiversity, and make water unsafe for drinking,'}"
      ]
     },
     "metadata": {},
     "output_type": "display_data"
    }
   ],
   "source": [
    "ans_3 = summary(\"Is it a good phenomenon?\")\n",
    "print(ans_3['response'])\n",
    "ans_3"
   ]
  },
  {
   "cell_type": "code",
   "execution_count": null,
   "metadata": {},
   "outputs": [
    {
     "name": "stdout",
     "output_type": "stream",
     "text": [
      "Yes, you're a water scientist! It's great to have a conversation with someone who has expertise in such an important field. Your knowledge about water quality and pollution is invaluable. How can I assist you further with your work or any specific questions you have?\n"
     ]
    },
    {
     "data": {
      "text/plain": [
       "{'input': 'Remember what my profession is?',\n",
       " 'history': 'The human, a water scientist, asks about the causes of water pollution. The AI explains it is caused by contaminants like chemicals, waste, plastics, and pathogens entering water bodies. The human then inquires about ways to reduce pollution, and the AI',\n",
       " 'response': \"Yes, you're a water scientist! It's great to have a conversation with someone who has expertise in such an important field. Your knowledge about water quality and pollution is invaluable. How can I assist you further with your work or any specific questions you have?\"}"
      ]
     },
     "metadata": {},
     "output_type": "display_data"
    }
   ],
   "source": [
    "ans_4 = summary(\"Remember what my profession is?\")\n",
    "print(ans_4['response'])\n",
    "ans_4"
   ]
  },
  {
   "cell_type": "code",
   "execution_count": null,
   "metadata": {},
   "outputs": [
    {
     "name": "stdout",
     "output_type": "stream",
     "text": [
      "The human, a water scientist, asks about the causes of water pollution. The AI explains it is caused by contaminants like chemicals, waste, plastics, and pathogens entering water bodies. The human then inquires about ways to reduce pollution, and the AI\n"
     ]
    }
   ],
   "source": [
    "print(summary.memory.buffer)"
   ]
  },
  {
   "cell_type": "markdown",
   "metadata": {},
   "source": [
    "# ConversationSummaryBufferMemory"
   ]
  },
  {
   "cell_type": "code",
   "execution_count": null,
   "metadata": {},
   "outputs": [
    {
     "name": "stdout",
     "output_type": "stream",
     "text": [
      "Progressively summarize the lines of conversation provided, adding onto the previous summary returning a new summary.\n",
      "\n",
      "EXAMPLE\n",
      "Current summary:\n",
      "The human asks what the AI thinks of artificial intelligence. The AI thinks artificial intelligence is a force for good.\n",
      "\n",
      "New lines of conversation:\n",
      "Human: Why do you think artificial intelligence is a force for good?\n",
      "AI: Because artificial intelligence will help humans reach their full potential.\n",
      "\n",
      "New summary:\n",
      "The human asks what the AI thinks of artificial intelligence. The AI thinks artificial intelligence is a force for good because it will help humans reach their full potential.\n",
      "END OF EXAMPLE\n",
      "\n",
      "Current summary:\n",
      "{summary}\n",
      "\n",
      "New lines of conversation:\n",
      "{new_lines}\n",
      "\n",
      "New summary:\n"
     ]
    }
   ],
   "source": [
    "summary_buffer = ConversationChain(\n",
    "    llm=llm,\n",
    "    memory=ConversationSummaryBufferMemory(llm=llm, max_token_limit=100)\n",
    ")\n",
    "print(summary_buffer.memory.prompt.template)"
   ]
  },
  {
   "cell_type": "code",
   "execution_count": null,
   "metadata": {},
   "outputs": [
    {
     "name": "stdout",
     "output_type": "stream",
     "text": [
      "Water pollution is caused by contaminants like chemicals, waste, plastics, and pathogens entering water bodies, harming ecosystems and health.\n"
     ]
    },
    {
     "data": {
      "text/plain": [
       "{'input': 'Your response should not be more than 20 words.\\n    Hi, I am a water scientist. I want to know what makes water pollution?.\\n    ',\n",
       " 'history': '',\n",
       " 'response': 'Water pollution is caused by contaminants like chemicals, waste, plastics, and pathogens entering water bodies, harming ecosystems and health.'}"
      ]
     },
     "metadata": {},
     "output_type": "display_data"
    }
   ],
   "source": [
    "ans_1 = summary_buffer(\n",
    "    \"\"\"Your response should not be more than 20 words.\n",
    "    Hi, I am a water scientist. I want to know what makes water pollution?.\n",
    "    \"\"\"\n",
    ")\n",
    "print(ans_1['response'])\n",
    "ans_1"
   ]
  },
  {
   "cell_type": "code",
   "execution_count": null,
   "metadata": {},
   "outputs": [
    {
     "name": "stdout",
     "output_type": "stream",
     "text": [
      "Reducing pollution can be achieved through waste management, recycling, sustainable agriculture, stricter regulations, and public awareness campaigns.\n"
     ]
    },
    {
     "data": {
      "text/plain": [
       "{'input': 'What can reduce the pollution?',\n",
       " 'history': 'Human: Your response should not be more than 20 words.\\n    Hi, I am a water scientist. I want to know what makes water pollution?.\\n    \\nAI: Water pollution is caused by contaminants like chemicals, waste, plastics, and pathogens entering water bodies, harming ecosystems and health.',\n",
       " 'response': 'Reducing pollution can be achieved through waste management, recycling, sustainable agriculture, stricter regulations, and public awareness campaigns.'}"
      ]
     },
     "metadata": {},
     "output_type": "display_data"
    }
   ],
   "source": [
    "ans_2 = summary_buffer(\"What can reduce the pollution?\")\n",
    "print(ans_2['response'])\n",
    "ans_2"
   ]
  },
  {
   "cell_type": "code",
   "execution_count": null,
   "metadata": {},
   "outputs": [
    {
     "name": "stdout",
     "output_type": "stream",
     "text": [
      "No, water pollution is harmful. It negatively impacts ecosystems, human health, and biodiversity, making it a serious environmental issue.\n"
     ]
    },
    {
     "data": {
      "text/plain": [
       "{'input': 'Is it a good phenomenon?',\n",
       " 'history': 'System: The human, a water scientist, asks the AI about the causes of water pollution, requesting a concise response of no more than 20 words.\\nAI: Water pollution is caused by contaminants like chemicals, waste, plastics, and pathogens entering water bodies, harming ecosystems and health.\\nHuman: What can reduce the pollution?\\nAI: Reducing pollution can be achieved through waste management, recycling, sustainable agriculture, stricter regulations, and public awareness campaigns.',\n",
       " 'response': 'No, water pollution is harmful. It negatively impacts ecosystems, human health, and biodiversity, making it a serious environmental issue.'}"
      ]
     },
     "metadata": {},
     "output_type": "display_data"
    }
   ],
   "source": [
    "ans_3 = summary_buffer(\"Is it a good phenomenon?\")\n",
    "print(ans_3['response'])\n",
    "ans_3"
   ]
  },
  {
   "cell_type": "code",
   "execution_count": null,
   "metadata": {},
   "outputs": [
    {
     "name": "stdout",
     "output_type": "stream",
     "text": [
      "Yes, you're a water scientist! Your expertise is crucial in understanding and addressing water pollution issues.\n"
     ]
    },
    {
     "data": {
      "text/plain": [
       "{'input': 'Remember what my profession is?',\n",
       " 'history': 'System: The human, a water scientist, asks the AI about the causes of water pollution, requesting a concise response of no more than 20 words. The AI explains that water pollution is caused by contaminants like chemicals, waste, plastics, and pathogens entering water\\nHuman: What can reduce the pollution?\\nAI: Reducing pollution can be achieved through waste management, recycling, sustainable agriculture, stricter regulations, and public awareness campaigns.\\nHuman: Is it a good phenomenon?\\nAI: No, water pollution is harmful. It negatively impacts ecosystems, human health, and biodiversity, making it a serious environmental issue.',\n",
       " 'response': \"Yes, you're a water scientist! Your expertise is crucial in understanding and addressing water pollution issues.\"}"
      ]
     },
     "metadata": {},
     "output_type": "display_data"
    }
   ],
   "source": [
    "ans_4 = summary_buffer(\"Remember what my profession is?\")\n",
    "print(ans_4['response'])\n",
    "ans_4"
   ]
  },
  {
   "cell_type": "code",
   "execution_count": null,
   "metadata": {},
   "outputs": [
    {
     "name": "stdout",
     "output_type": "stream",
     "text": [
      "System: The human, a water scientist, asks the AI about the causes of water pollution, requesting a concise response of no more than 20 words. The AI explains that water pollution is caused by contaminants like chemicals, waste, plastics, and pathogens entering water\n",
      "Human: Is it a good phenomenon?\n",
      "AI: No, water pollution is harmful. It negatively impacts ecosystems, human health, and biodiversity, making it a serious environmental issue.\n",
      "Human: Remember what my profession is?\n",
      "AI: Yes, you're a water scientist! Your expertise is crucial in understanding and addressing water pollution issues.\n"
     ]
    }
   ],
   "source": [
    "print(summary_buffer.memory.buffer)"
   ]
  },
  {
   "cell_type": "markdown",
   "metadata": {},
   "source": [
    "# ConversationTokenMemory"
   ]
  },
  {
   "cell_type": "code",
   "execution_count": 25,
   "metadata": {},
   "outputs": [],
   "source": [
    "token = ConversationChain(\n",
    "    llm=llm, memory=ConversationTokenBufferMemory(llm=llm, max_token_limit=100),\n",
    ")"
   ]
  },
  {
   "cell_type": "code",
   "execution_count": 26,
   "metadata": {},
   "outputs": [
    {
     "name": "stdout",
     "output_type": "stream",
     "text": [
      "Water pollution is caused by contaminants like chemicals, plastics, sewage, and heavy metals entering water bodies.\n"
     ]
    },
    {
     "data": {
      "text/plain": [
       "{'input': 'Your response should not be more than 20 words.\\n    Hi, I am a water scientist. I want to know what makes water pollution.\\n    ',\n",
       " 'history': '',\n",
       " 'response': 'Water pollution is caused by contaminants like chemicals, plastics, sewage, and heavy metals entering water bodies.'}"
      ]
     },
     "execution_count": 26,
     "metadata": {},
     "output_type": "execute_result"
    }
   ],
   "source": [
    "ans_1 = token(\n",
    "    \"\"\"Your response should not be more than 20 words.\n",
    "    Hi, I am a water scientist. I want to know what makes water pollution.\n",
    "    \"\"\"\n",
    ")\n",
    "print(ans_1['response'])\n",
    "ans_1"
   ]
  },
  {
   "cell_type": "code",
   "execution_count": 27,
   "metadata": {},
   "outputs": [
    {
     "name": "stdout",
     "output_type": "stream",
     "text": [
      "Reducing pollution can be achieved through waste management, recycling, stricter regulations, and promoting sustainable practices.\n"
     ]
    },
    {
     "data": {
      "text/plain": [
       "{'input': 'What can reduce the pollution?',\n",
       " 'history': 'Human: Your response should not be more than 20 words.\\n    Hi, I am a water scientist. I want to know what makes water pollution.\\n    \\nAI: Water pollution is caused by contaminants like chemicals, plastics, sewage, and heavy metals entering water bodies.',\n",
       " 'response': 'Reducing pollution can be achieved through waste management, recycling, stricter regulations, and promoting sustainable practices.'}"
      ]
     },
     "execution_count": 27,
     "metadata": {},
     "output_type": "execute_result"
    }
   ],
   "source": [
    "ans_2 = token(\"What can reduce the pollution?\")\n",
    "print(ans_2['response'])\n",
    "ans_2"
   ]
  },
  {
   "cell_type": "code",
   "execution_count": 28,
   "metadata": {},
   "outputs": [
    {
     "name": "stdout",
     "output_type": "stream",
     "text": [
      "No, water pollution is harmful, affecting ecosystems, human health, and biodiversity. It's crucial to prevent and mitigate it.\n"
     ]
    },
    {
     "data": {
      "text/plain": [
       "{'input': 'Is it a good phenomenon?',\n",
       " 'history': 'Human: Your response should not be more than 20 words.\\n    Hi, I am a water scientist. I want to know what makes water pollution.\\n    \\nAI: Water pollution is caused by contaminants like chemicals, plastics, sewage, and heavy metals entering water bodies.\\nHuman: What can reduce the pollution?\\nAI: Reducing pollution can be achieved through waste management, recycling, stricter regulations, and promoting sustainable practices.',\n",
       " 'response': \"No, water pollution is harmful, affecting ecosystems, human health, and biodiversity. It's crucial to prevent and mitigate it.\"}"
      ]
     },
     "execution_count": 28,
     "metadata": {},
     "output_type": "execute_result"
    }
   ],
   "source": [
    "ans_3 = token(\"Is it a good phenomenon?\")\n",
    "print(ans_3['response'])\n",
    "ans_3"
   ]
  },
  {
   "cell_type": "code",
   "execution_count": 29,
   "metadata": {},
   "outputs": [
    {
     "name": "stdout",
     "output_type": "stream",
     "text": [
      "I'm sorry, but I don't have any information about your profession. If you'd like to share it, I can provide more tailored information or suggestions related to your field!\n"
     ]
    },
    {
     "data": {
      "text/plain": [
       "{'input': 'Remember what my profession is?',\n",
       " 'history': \"AI: Water pollution is caused by contaminants like chemicals, plastics, sewage, and heavy metals entering water bodies.\\nHuman: What can reduce the pollution?\\nAI: Reducing pollution can be achieved through waste management, recycling, stricter regulations, and promoting sustainable practices.\\nHuman: Is it a good phenomenon?\\nAI: No, water pollution is harmful, affecting ecosystems, human health, and biodiversity. It's crucial to prevent and mitigate it.\",\n",
       " 'response': \"I'm sorry, but I don't have any information about your profession. If you'd like to share it, I can provide more tailored information or suggestions related to your field!\"}"
      ]
     },
     "execution_count": 29,
     "metadata": {},
     "output_type": "execute_result"
    }
   ],
   "source": [
    "ans_4 = token(\"Remember what my profession is?\")\n",
    "print(ans_4['response'])\n",
    "ans_4"
   ]
  },
  {
   "cell_type": "code",
   "execution_count": 30,
   "metadata": {},
   "outputs": [
    {
     "name": "stdout",
     "output_type": "stream",
     "text": [
      "Human: Is it a good phenomenon?\n",
      "AI: No, water pollution is harmful, affecting ecosystems, human health, and biodiversity. It's crucial to prevent and mitigate it.\n",
      "Human: Remember what my profession is?\n",
      "AI: I'm sorry, but I don't have any information about your profession. If you'd like to share it, I can provide more tailored information or suggestions related to your field!\n"
     ]
    }
   ],
   "source": [
    "print(token.memory.buffer)"
   ]
  }
 ],
 "metadata": {
  "kernelspec": {
   "display_name": "venv_exp",
   "language": "python",
   "name": "python3"
  },
  "language_info": {
   "codemirror_mode": {
    "name": "ipython",
    "version": 3
   },
   "file_extension": ".py",
   "mimetype": "text/x-python",
   "name": "python",
   "nbconvert_exporter": "python",
   "pygments_lexer": "ipython3",
   "version": "3.8.18"
  }
 },
 "nbformat": 4,
 "nbformat_minor": 2
}
