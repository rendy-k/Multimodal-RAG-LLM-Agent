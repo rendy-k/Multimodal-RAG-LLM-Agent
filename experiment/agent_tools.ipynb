{
 "cells": [
  {
   "cell_type": "code",
   "execution_count": 2,
   "metadata": {},
   "outputs": [],
   "source": [
    "from os import environ\n",
    "from dotenv import load_dotenv\n",
    "from langchain_openai import ChatOpenAI\n",
    "from langchain_core.prompts import ChatPromptTemplate, MessagesPlaceholder\n",
    "from langchain.chains import ConversationChain, LLMChain\n",
    "from langchain.memory import (\n",
    "    ConversationBufferMemory,\n",
    "    ConversationBufferWindowMemory,\n",
    ")\n",
    "from langchain_core.tools import tool\n",
    "from langchain.agents import AgentExecutor, create_tool_calling_agent, initialize_agent, AgentType, load_tools"
   ]
  },
  {
   "cell_type": "code",
   "execution_count": 6,
   "metadata": {},
   "outputs": [],
   "source": [
    "# Read API KEY\n",
    "load_dotenv()\n",
    "TOKEN_OPENAI = environ['TOKEN_OPENAI']"
   ]
  },
  {
   "cell_type": "code",
   "execution_count": 7,
   "metadata": {},
   "outputs": [],
   "source": [
    "# Load OpenAI LLM\n",
    "llm = ChatOpenAI(model=\"gpt-4o\", temperature=0, api_key=TOKEN_OPENAI)"
   ]
  },
  {
   "cell_type": "code",
   "execution_count": 122,
   "metadata": {},
   "outputs": [],
   "source": [
    "# Create tools\n",
    "@tool\n",
    "def investing(capital: int, tenure: float, dividend_yield: float) -> int:\n",
    "    \"\"\"Calculate the final value of investment given the capital, interest rate per annum, and tenure.\n",
    "    If the dividend yield is in percentage (%), than divide it with 100 to convert it to be decimal.\"\"\"\n",
    "    invest = capital * (1 + dividend_yield)**tenure\n",
    "    return invest\n",
    "\n",
    "@tool\n",
    "def calculate_dy(current_price: int, dividend: int) -> float:\n",
    "    \"\"\"Calculate dividend yield based on the dividend and and current price\"\"\"\n",
    "    dividend_yield = round(dividend/current_price, 3)\n",
    "    return dividend_yield\n",
    "\n",
    "@tool\n",
    "def entry_criteria(dividend_yield: float, current_price: int, yearly_payout: bool) -> str:\n",
    "    \"\"\"Decide whether to buy the stock (entry) based on the dividend yield, current price, and yearly payout\"\"\"\n",
    "    if yearly_payout == True:\n",
    "        if dividend_yield >= 0.04 or current_price <= 1000:\n",
    "            decision = \"buy the stock\"\n",
    "        else:\n",
    "            decision = \"do not buy the stock\"\n",
    "    else:\n",
    "        if dividend_yield >= 0.6 and current_price <= 3000:\n",
    "            decision = \"buy the stock\"\n",
    "        else:\n",
    "            decision = \"do not buy the stock\"\n",
    "    \n",
    "    return decision\n"
   ]
  },
  {
   "cell_type": "code",
   "execution_count": null,
   "metadata": {},
   "outputs": [],
   "source": [
    "# Create prompt template\n",
    "prompt = ChatPromptTemplate.from_messages(\n",
    "    [\n",
    "        (\"system\", \"Answer not more than 20 words\"),\n",
    "        MessagesPlaceholder(\"history\", optional=True),\n",
    "        (\"human\", \"{input}\"),\n",
    "        MessagesPlaceholder(\"agent_scratchpad\"),\n",
    "    ]\n",
    ")"
   ]
  },
  {
   "cell_type": "markdown",
   "metadata": {},
   "source": [
    "# Regular agent"
   ]
  },
  {
   "cell_type": "code",
   "execution_count": 13,
   "metadata": {},
   "outputs": [],
   "source": [
    "tools = [investing, calculate_dy, entry_criteria]\n",
    "agent = create_tool_calling_agent(llm, tools, prompt)\n",
    "agent_executor = AgentExecutor(agent=agent, tools=tools, verbose=True)"
   ]
  },
  {
   "cell_type": "code",
   "execution_count": 15,
   "metadata": {},
   "outputs": [
    {
     "name": "stderr",
     "output_type": "stream",
     "text": [
      "Error in StdOutCallbackHandler.on_chain_start callback: AttributeError(\"'NoneType' object has no attribute 'get'\")\n"
     ]
    },
    {
     "name": "stdout",
     "output_type": "stream",
     "text": [
      "\u001b[32;1m\u001b[1;3mHello! How can I assist you today?\u001b[0m\n",
      "\n",
      "\u001b[1m> Finished chain.\u001b[0m\n"
     ]
    },
    {
     "data": {
      "text/plain": [
       "{'input': \"Hey, what's up?\", 'output': 'Hello! How can I assist you today?'}"
      ]
     },
     "execution_count": 15,
     "metadata": {},
     "output_type": "execute_result"
    }
   ],
   "source": [
    "response = agent_executor.invoke({\"input\": \"Hey, what's up?\"})\n",
    "response"
   ]
  },
  {
   "cell_type": "code",
   "execution_count": 13,
   "metadata": {},
   "outputs": [
    {
     "name": "stderr",
     "output_type": "stream",
     "text": [
      "Error in StdOutCallbackHandler.on_chain_start callback: AttributeError(\"'NoneType' object has no attribute 'get'\")\n"
     ]
    },
    {
     "name": "stdout",
     "output_type": "stream",
     "text": [
      "\u001b[32;1m\u001b[1;3mManagement of money, investments, and financial resources.\u001b[0m\n",
      "\n",
      "\u001b[1m> Finished chain.\u001b[0m\n"
     ]
    },
    {
     "data": {
      "text/plain": [
       "{'input': 'Define finance in less than 10 words.',\n",
       " 'output': 'Management of money, investments, and financial resources.'}"
      ]
     },
     "execution_count": 13,
     "metadata": {},
     "output_type": "execute_result"
    }
   ],
   "source": [
    "response = agent_executor.invoke({\"input\": \"Define finance in less than 10 words.\"})\n",
    "response"
   ]
  },
  {
   "cell_type": "code",
   "execution_count": null,
   "metadata": {},
   "outputs": [
    {
     "name": "stderr",
     "output_type": "stream",
     "text": [
      "Error in StdOutCallbackHandler.on_chain_start callback: AttributeError(\"'NoneType' object has no attribute 'get'\")\n"
     ]
    },
    {
     "name": "stdout",
     "output_type": "stream",
     "text": [
      "\u001b[32;1m\u001b[1;3m\n",
      "Invoking: `calculate_dy` with `{'current_price': 270, 'dividend': 30}`\n",
      "\n",
      "\n",
      "\u001b[0m\u001b[33;1m\u001b[1;3m0.111\u001b[0m\u001b[32;1m\u001b[1;3mThe dividend yield is 11.1%.\u001b[0m\n",
      "\n",
      "\u001b[1m> Finished chain.\u001b[0m\n"
     ]
    },
    {
     "data": {
      "text/plain": [
       "{'input': 'if I buy a stock with the dividend of 30 when the price is 270, how much is the dividend yield?',\n",
       " 'output': 'The dividend yield is 11.1%.'}"
      ]
     },
     "execution_count": 11,
     "metadata": {},
     "output_type": "execute_result"
    }
   ],
   "source": [
    "response = agent_executor.invoke(\n",
    "    {\"input\": \"if I buy a stock with the dividend of 30 when the price is 270, how much is the dividend yield?\"}\n",
    ")\n",
    "response"
   ]
  },
  {
   "cell_type": "code",
   "execution_count": null,
   "metadata": {},
   "outputs": [
    {
     "name": "stderr",
     "output_type": "stream",
     "text": [
      "Error in StdOutCallbackHandler.on_chain_start callback: AttributeError(\"'NoneType' object has no attribute 'get'\")\n"
     ]
    },
    {
     "name": "stdout",
     "output_type": "stream",
     "text": [
      "\u001b[32;1m\u001b[1;3m\n",
      "Invoking: `calculate_dy` with `{'current_price': 270, 'dividend': 30}`\n",
      "\n",
      "\n",
      "\u001b[0m\u001b[33;1m\u001b[1;3m0.111\u001b[0m\u001b[32;1m\u001b[1;3m\n",
      "Invoking: `entry_criteria` with `{'dividend_yield': 0.111, 'current_price': 270, 'yearly_payout': True}`\n",
      "\n",
      "\n",
      "\u001b[0m\u001b[38;5;200m\u001b[1;3mbuy the stock\u001b[0m\u001b[32;1m\u001b[1;3mYes, you should buy the stock.\u001b[0m\n",
      "\n",
      "\u001b[1m> Finished chain.\u001b[0m\n"
     ]
    },
    {
     "data": {
      "text/plain": [
       "{'input': 'if I buy a stock with the dividend of 30 when the price is 270. The stock pays dividend every year. Should I buy the stock?',\n",
       " 'output': 'Yes, you should buy the stock.'}"
      ]
     },
     "execution_count": 16,
     "metadata": {},
     "output_type": "execute_result"
    }
   ],
   "source": [
    "response = agent_executor.invoke(\n",
    "    {\"input\": \"if I buy a stock with the dividend of 30 when the price is 270. The stock pays dividend every year. Should I buy the stock?\"}\n",
    ")\n",
    "response"
   ]
  },
  {
   "cell_type": "code",
   "execution_count": 60,
   "metadata": {},
   "outputs": [
    {
     "name": "stderr",
     "output_type": "stream",
     "text": [
      "Error in StdOutCallbackHandler.on_chain_start callback: AttributeError(\"'NoneType' object has no attribute 'get'\")\n"
     ]
    },
    {
     "name": "stdout",
     "output_type": "stream",
     "text": [
      "\u001b[32;1m\u001b[1;3mI need the dividend yield, current price, and yearly payout details to decide.\u001b[0m\n",
      "\n",
      "\u001b[1m> Finished chain.\u001b[0m\n"
     ]
    },
    {
     "data": {
      "text/plain": [
       "{'input': 'The stock pays dividend every year. Should I buy the stock?',\n",
       " 'output': 'I need the dividend yield, current price, and yearly payout details to decide.'}"
      ]
     },
     "execution_count": 60,
     "metadata": {},
     "output_type": "execute_result"
    }
   ],
   "source": [
    "response = agent_executor.invoke({\"input\": \"The stock pays dividend every year. Should I buy the stock?\"})\n",
    "response"
   ]
  },
  {
   "cell_type": "markdown",
   "metadata": {},
   "source": [
    "# Zero-shot agent"
   ]
  },
  {
   "cell_type": "markdown",
   "metadata": {},
   "source": [
    "## External tools"
   ]
  },
  {
   "cell_type": "code",
   "execution_count": 37,
   "metadata": {},
   "outputs": [],
   "source": [
    "# Zero-shot agent with external tools\n",
    "tools = load_tools([\"llm-math\"], llm=llm)\n",
    "agent_external = initialize_agent(tools , llm, agent=AgentType.ZERO_SHOT_REACT_DESCRIPTION, verbose=True)"
   ]
  },
  {
   "cell_type": "code",
   "execution_count": 39,
   "metadata": {},
   "outputs": [
    {
     "name": "stderr",
     "output_type": "stream",
     "text": [
      "Error in StdOutCallbackHandler.on_chain_start callback: AttributeError(\"'NoneType' object has no attribute 'get'\")\n"
     ]
    },
    {
     "name": "stdout",
     "output_type": "stream",
     "text": [
      "\u001b[32;1m\u001b[1;3mI will calculate the product of 6 and 11 using the calculator tool.\n",
      "\n",
      "Action: Calculator\n",
      "Action Input: 6 * 11\u001b[0m\n",
      "Observation: \u001b[36;1m\u001b[1;3mAnswer: 66\u001b[0m\n",
      "Thought:\u001b[32;1m\u001b[1;3mI now know the final answer. \n",
      "\n",
      "Final Answer: 6 * 11 is 66.\u001b[0m\n",
      "\n",
      "\u001b[1m> Finished chain.\u001b[0m\n"
     ]
    }
   ],
   "source": [
    "response = agent_external.run(\"what is 6 * 11?\")"
   ]
  },
  {
   "cell_type": "code",
   "execution_count": 38,
   "metadata": {},
   "outputs": [
    {
     "name": "stderr",
     "output_type": "stream",
     "text": [
      "Error in StdOutCallbackHandler.on_chain_start callback: AttributeError(\"'NoneType' object has no attribute 'get'\")\n"
     ]
    },
    {
     "name": "stdout",
     "output_type": "stream",
     "text": [
      "\u001b[32;1m\u001b[1;3mTo solve the expression \\((4 + 5)/3*2\\), I need to follow the order of operations: parentheses, division, and then multiplication.\n",
      "\n",
      "1. Calculate the expression inside the parentheses: \\(4 + 5\\).\n",
      "2. Divide the result by 3.\n",
      "3. Multiply the result by 2.\n",
      "\n",
      "Action: Calculator\n",
      "Action Input: (4 + 5)/3*2\u001b[0m\n",
      "Observation: \u001b[36;1m\u001b[1;3mAnswer: 6.0\u001b[0m\n",
      "Thought:\u001b[32;1m\u001b[1;3mI now know the final answer. \n",
      "\n",
      "Final Answer: The result of the expression \\((4 + 5)/3*2\\) is 6.0.\u001b[0m\n",
      "\n",
      "\u001b[1m> Finished chain.\u001b[0m\n"
     ]
    }
   ],
   "source": [
    "response = agent_external.run(\"(4 + 5)/3*2 is \")"
   ]
  },
  {
   "cell_type": "markdown",
   "metadata": {},
   "source": [
    "## Custom tools"
   ]
  },
  {
   "cell_type": "code",
   "execution_count": null,
   "metadata": {},
   "outputs": [],
   "source": [
    "# Create zero-shot agent\n",
    "agent_zeroshot = initialize_agent(\n",
    "    tools=[investing, calculate_dy, entry_criteria],\n",
    "    llm=llm,\n",
    "    agent=AgentType.STRUCTURED_CHAT_ZERO_SHOT_REACT_DESCRIPTION,\n",
    "    verbose=True,\n",
    ")"
   ]
  },
  {
   "cell_type": "code",
   "execution_count": 32,
   "metadata": {},
   "outputs": [
    {
     "name": "stderr",
     "output_type": "stream",
     "text": [
      "Error in StdOutCallbackHandler.on_chain_start callback: AttributeError(\"'NoneType' object has no attribute 'get'\")\n"
     ]
    },
    {
     "name": "stdout",
     "output_type": "stream",
     "text": [
      "\u001b[32;1m\u001b[1;3mThought: To calculate the dividend yield, I need to use the dividend and the current price of the stock.\n",
      "Action:\n",
      "```\n",
      "{\n",
      "  \"action\": \"calculate_dy\",\n",
      "  \"action_input\": {\n",
      "    \"current_price\": 270,\n",
      "    \"dividend\": 30\n",
      "  }\n",
      "}\n",
      "```\u001b[0m\n",
      "Observation: \u001b[33;1m\u001b[1;3m0.111\u001b[0m\n",
      "Thought:\u001b[32;1m\u001b[1;3mThe dividend yield for a stock with a dividend of 30 and a current price of 270 is 0.111, or 11.1%. \n",
      "\n",
      "Action:\n",
      "```\n",
      "{\n",
      "  \"action\": \"Final Answer\",\n",
      "  \"action_input\": \"The dividend yield is 11.1%.\"\n",
      "}\n",
      "```\u001b[0m\n",
      "\n",
      "\u001b[1m> Finished chain.\u001b[0m\n"
     ]
    },
    {
     "data": {
      "text/plain": [
       "'The dividend yield is 11.1%.'"
      ]
     },
     "execution_count": 32,
     "metadata": {},
     "output_type": "execute_result"
    }
   ],
   "source": [
    "response = agent_zeroshot.run(\"if I buy a stock with the dividend of 30 when the price is 270, how much is the dividend yield?\")\n",
    "response"
   ]
  },
  {
   "cell_type": "code",
   "execution_count": 31,
   "metadata": {},
   "outputs": [
    {
     "name": "stderr",
     "output_type": "stream",
     "text": [
      "Error in StdOutCallbackHandler.on_chain_start callback: AttributeError(\"'NoneType' object has no attribute 'get'\")\n"
     ]
    },
    {
     "name": "stdout",
     "output_type": "stream",
     "text": [
      "\u001b[32;1m\u001b[1;3mThought: To determine if you should buy the stock, I need to calculate the dividend yield and then use the entry criteria to make a decision.\n",
      "Action:\n",
      "```\n",
      "{\n",
      "  \"action\": \"calculate_dy\",\n",
      "  \"action_input\": {\n",
      "    \"current_price\": 270,\n",
      "    \"dividend\": 30\n",
      "  }\n",
      "}\n",
      "```\u001b[0m\n",
      "Observation: \u001b[33;1m\u001b[1;3m0.111\u001b[0m\n",
      "Thought:\u001b[32;1m\u001b[1;3mTo determine if you should buy the stock, I need to use the entry criteria based on the calculated dividend yield, current price, and the fact that the stock pays dividends yearly.\n",
      "\n",
      "Action:\n",
      "```\n",
      "{\n",
      "  \"action\": \"entry_criteria\",\n",
      "  \"action_input\": {\n",
      "    \"dividend_yield\": 0.111,\n",
      "    \"current_price\": 270,\n",
      "    \"yearly_payout\": true\n",
      "  }\n",
      "}\n",
      "```\n",
      "\u001b[0m\n",
      "Observation: \u001b[38;5;200m\u001b[1;3mbuy the stock\u001b[0m\n",
      "Thought:\u001b[32;1m\u001b[1;3mI know what to respond. \n",
      "\n",
      "Action:\n",
      "```\n",
      "{\n",
      "  \"action\": \"Final Answer\",\n",
      "  \"action_input\": \"Based on the calculated dividend yield of 11.1% and the fact that the stock pays dividends yearly, it is recommended to buy the stock.\"\n",
      "}\n",
      "```\u001b[0m\n",
      "\n",
      "\u001b[1m> Finished chain.\u001b[0m\n"
     ]
    },
    {
     "data": {
      "text/plain": [
       "'Based on the calculated dividend yield of 11.1% and the fact that the stock pays dividends yearly, it is recommended to buy the stock.'"
      ]
     },
     "execution_count": 31,
     "metadata": {},
     "output_type": "execute_result"
    }
   ],
   "source": [
    "response = agent_zeroshot.run(\"if I buy a stock with the dividend of 30 when the price is 270. The stock pays dividend every year. Should I buy the stock?\")\n",
    "response"
   ]
  },
  {
   "cell_type": "markdown",
   "metadata": {},
   "source": [
    "# Add memory"
   ]
  },
  {
   "cell_type": "code",
   "execution_count": null,
   "metadata": {},
   "outputs": [],
   "source": [
    "# Create prompt template\n",
    "prompt = ChatPromptTemplate.from_messages(\n",
    "    [\n",
    "        (\"system\", \"Always call me 'Boss' and answer not more than 20 words\"),\n",
    "        MessagesPlaceholder(variable_name=\"history\"),\n",
    "        (\"human\", \"{input}\"),\n",
    "        MessagesPlaceholder(\"agent_scratchpad\"),\n",
    "    ]\n",
    ")"
   ]
  },
  {
   "cell_type": "code",
   "execution_count": null,
   "metadata": {},
   "outputs": [],
   "source": [
    "# Bind tools\n",
    "tools = [investing, calculate_dy, entry_criteria]\n",
    "llm_tools = llm.bind_tools(tools)"
   ]
  },
  {
   "cell_type": "code",
   "execution_count": null,
   "metadata": {},
   "outputs": [],
   "source": [
    "from langchain.agents.format_scratchpad.openai_tools import format_to_openai_tool_messages\n",
    "from langchain.agents.output_parsers.openai_tools import OpenAIToolsAgentOutputParser"
   ]
  },
  {
   "cell_type": "code",
   "execution_count": null,
   "metadata": {},
   "outputs": [],
   "source": [
    "# Create agent\n",
    "agent = (\n",
    "    {\n",
    "        \"input\": lambda x: x[\"input\"],\n",
    "        \"agent_scratchpad\": lambda x: format_to_openai_tool_messages(x[\"intermediate_steps\"]),\n",
    "        \"history\": lambda x: x[\"history\"],\n",
    "    }\n",
    "    | prompt\n",
    "    | llm_tools\n",
    "    | OpenAIToolsAgentOutputParser()\n",
    ")"
   ]
  },
  {
   "cell_type": "code",
   "execution_count": null,
   "metadata": {},
   "outputs": [],
   "source": [
    "# Create agent\n",
    "agent_memory = AgentExecutor(agent=agent, tools=tools, verbose=True)"
   ]
  },
  {
   "cell_type": "code",
   "execution_count": null,
   "metadata": {},
   "outputs": [],
   "source": [
    "# Create memory\n",
    "memory = ConversationBufferMemory(llm=llm, memory_key=\"history\")\n",
    "# Prepopulate the memory with chat history\n",
    "history_input = [\"if I buy a stock with the dividend of 30 when the price is 270, how much is the dividend yield?\"]\n",
    "history_output = [\"The dividend yield is 11.1%.\"]\n",
    "if history_input is not None:\n",
    "    for inp, outp in zip(history_input, history_output):\n",
    "        memory.save_context({\"input\": inp}, {\"output\": outp})"
   ]
  },
  {
   "cell_type": "code",
   "execution_count": null,
   "metadata": {},
   "outputs": [
    {
     "name": "stderr",
     "output_type": "stream",
     "text": [
      "Error in StdOutCallbackHandler.on_chain_start callback: AttributeError(\"'NoneType' object has no attribute 'get'\")\n"
     ]
    },
    {
     "name": "stdout",
     "output_type": "stream",
     "text": [
      "\u001b[32;1m\u001b[1;3m\n",
      "Invoking: `entry_criteria` with `{'dividend_yield': 11.1, 'current_price': 270, 'yearly_payout': True}`\n",
      "\n",
      "\n",
      "\u001b[0m\u001b[38;5;200m\u001b[1;3mbuy the stock\u001b[0m\u001b[32;1m\u001b[1;3mYes, Boss. Buy the stock.\u001b[0m\n",
      "\n",
      "\u001b[1m> Finished chain.\u001b[0m\n"
     ]
    },
    {
     "data": {
      "text/plain": [
       "{'input': 'If the stock pays dividend yearly, should I buy the stock?',\n",
       " 'history': [HumanMessage(content='if I buy a stock with the dividend of 30 when the price is 270, how much is the dividend yield?'),\n",
       "  AIMessage(content='The dividend yield is 11.1%.')],\n",
       " 'output': 'Yes, Boss. Buy the stock.'}"
      ]
     },
     "metadata": {},
     "output_type": "display_data"
    }
   ],
   "source": [
    "response = agent_memory.invoke(\n",
    "    {\n",
    "        \"input\": \"If the stock pays dividend yearly, should I buy the stock?\",\n",
    "        \"history\": memory.chat_memory.messages,\n",
    "    }\n",
    ")\n",
    "response"
   ]
  },
  {
   "cell_type": "markdown",
   "metadata": {},
   "source": [
    "# Add memory (2)\n",
    "Add the memory to prompt"
   ]
  },
  {
   "cell_type": "code",
   "execution_count": 115,
   "metadata": {},
   "outputs": [],
   "source": [
    "# Create prompt template\n",
    "prompt = ChatPromptTemplate.from_messages(\n",
    "    [\n",
    "        (\"system\", \"Always call me 'Boss', Answer not more than 20 words\"),\n",
    "        MessagesPlaceholder(\"history\", optional=True),\n",
    "        (\"human\", \"{input}\"),\n",
    "        MessagesPlaceholder(\"agent_scratchpad\"),\n",
    "    ]\n",
    ")"
   ]
  },
  {
   "cell_type": "code",
   "execution_count": 123,
   "metadata": {},
   "outputs": [],
   "source": [
    "tools = [investing, calculate_dy, entry_criteria]\n",
    "agent = create_tool_calling_agent(llm, tools, prompt)\n",
    "agent_memory_2 = AgentExecutor(agent=agent, tools=tools, verbose=True)"
   ]
  },
  {
   "cell_type": "code",
   "execution_count": 98,
   "metadata": {},
   "outputs": [],
   "source": [
    "# Create memory\n",
    "memory = ConversationBufferMemory(llm=llm, memory_key=\"history\")\n",
    "# Prepopulate the memory with chat history\n",
    "history_input = [\"if I buy a stock with the dividend of 30 when the price is 270, how much is the dividend yield?\"]\n",
    "history_output = [\"The dividend yield is 11.1%.\"]\n",
    "if history_input is not None:\n",
    "    for inp, outp in zip(history_input, history_output):\n",
    "        memory.save_context({\"input\": inp}, {\"output\": outp})"
   ]
  },
  {
   "cell_type": "code",
   "execution_count": null,
   "metadata": {},
   "outputs": [
    {
     "name": "stderr",
     "output_type": "stream",
     "text": [
      "Error in StdOutCallbackHandler.on_chain_start callback: AttributeError(\"'NoneType' object has no attribute 'get'\")\n"
     ]
    },
    {
     "name": "stdout",
     "output_type": "stream",
     "text": [
      "\u001b[32;1m\u001b[1;3m\n",
      "Invoking: `entry_criteria` with `{'dividend_yield': 11.1, 'current_price': 270, 'yearly_payout': True}`\n",
      "\n",
      "\n",
      "\u001b[0m\u001b[38;5;200m\u001b[1;3mbuy the stock\u001b[0m\u001b[32;1m\u001b[1;3mYes, Boss. You should buy the stock.\u001b[0m\n",
      "\n",
      "\u001b[1m> Finished chain.\u001b[0m\n"
     ]
    },
    {
     "data": {
      "text/plain": [
       "{'input': 'The stock pays dividend every year. Should I buy the stock?',\n",
       " 'history': [HumanMessage(content='if I buy a stock with the dividend of 30 when the price is 270, how much is the dividend yield?'),\n",
       "  AIMessage(content='The dividend yield is 11.1%.')],\n",
       " 'output': 'Yes, Boss. You should buy the stock.'}"
      ]
     },
     "execution_count": 117,
     "metadata": {},
     "output_type": "execute_result"
    }
   ],
   "source": [
    "question = \"The stock pays dividend every year. Should I buy the stock?\"\n",
    "response = agent_memory_2.invoke(\n",
    "    {\n",
    "        \"input\": question,\n",
    "        \"history\": memory.chat_memory.messages,\n",
    "    }\n",
    ")\n",
    "response"
   ]
  },
  {
   "cell_type": "code",
   "execution_count": 124,
   "metadata": {},
   "outputs": [
    {
     "name": "stderr",
     "output_type": "stream",
     "text": [
      "Error in StdOutCallbackHandler.on_chain_start callback: AttributeError(\"'NoneType' object has no attribute 'get'\")\n"
     ]
    },
    {
     "name": "stdout",
     "output_type": "stream",
     "text": [
      "\u001b[32;1m\u001b[1;3m\n",
      "Invoking: `investing` with `{'capital': 1000, 'tenure': 3, 'dividend_yield': 0.111}`\n",
      "\n",
      "\n",
      "\u001b[0m\u001b[36;1m\u001b[1;3m1371.330631\u001b[0m\u001b[32;1m\u001b[1;3mBoss, you'll get approximately 1371.33 after 3 years.\u001b[0m\n",
      "\n",
      "\u001b[1m> Finished chain.\u001b[0m\n"
     ]
    },
    {
     "data": {
      "text/plain": [
       "{'input': 'If i invest 1000 it for 3 years, with the mentioned dividend yield, how much will I get?',\n",
       " 'history': [HumanMessage(content='if I buy a stock with the dividend of 30 when the price is 270, how much is the dividend yield?'),\n",
       "  AIMessage(content='The dividend yield is 11.1%.')],\n",
       " 'output': \"Boss, you'll get approximately 1371.33 after 3 years.\"}"
      ]
     },
     "execution_count": 124,
     "metadata": {},
     "output_type": "execute_result"
    }
   ],
   "source": [
    "question = \"If i invest 1000 it for 3 years, with the mentioned dividend yield, how much will I get?\"\n",
    "response = agent_memory_2.invoke(\n",
    "    {\n",
    "        \"input\": question,\n",
    "        \"history\": memory.chat_memory.messages,\n",
    "    }\n",
    ")\n",
    "response"
   ]
  }
 ],
 "metadata": {
  "kernelspec": {
   "display_name": "venv_exp",
   "language": "python",
   "name": "python3"
  },
  "language_info": {
   "codemirror_mode": {
    "name": "ipython",
    "version": 3
   },
   "file_extension": ".py",
   "mimetype": "text/x-python",
   "name": "python",
   "nbconvert_exporter": "python",
   "pygments_lexer": "ipython3",
   "version": "3.8.18"
  }
 },
 "nbformat": 4,
 "nbformat_minor": 2
}
